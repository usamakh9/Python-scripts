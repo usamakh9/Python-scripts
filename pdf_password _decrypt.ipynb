{
 "cells": [
  {
   "cell_type": "code",
   "execution_count": null,
   "id": "ee208214",
   "metadata": {},
   "outputs": [],
   "source": []
  },
  {
   "cell_type": "code",
   "execution_count": 4,
   "id": "594c4389",
   "metadata": {},
   "outputs": [],
   "source": [
    "from pypdf import PdfReader, PdfWriter\n"
   ]
  },
  {
   "cell_type": "code",
   "execution_count": 6,
   "id": "a1d84866",
   "metadata": {},
   "outputs": [],
   "source": [
    "from pathlib import Path"
   ]
  },
  {
   "cell_type": "code",
   "execution_count": 34,
   "id": "195c4b99",
   "metadata": {},
   "outputs": [],
   "source": [
    "cwd=Path.cwd()\n"
   ]
  },
  {
   "cell_type": "code",
   "execution_count": 32,
   "id": "aeeb74a2",
   "metadata": {},
   "outputs": [],
   "source": [
    "file_list= [f for f in cwd.glob('*.pdf')]"
   ]
  },
  {
   "cell_type": "code",
   "execution_count": null,
   "id": "032cca00",
   "metadata": {},
   "outputs": [],
   "source": []
  },
  {
   "cell_type": "code",
   "execution_count": null,
   "id": "71bad3f6",
   "metadata": {},
   "outputs": [],
   "source": []
  },
  {
   "cell_type": "code",
   "execution_count": 31,
   "id": "d16f39fa",
   "metadata": {},
   "outputs": [],
   "source": [
    "\n",
    "for i in range(len(file_list)):\n",
    "    \n",
    "    reader = PdfReader(file_list[i])\n",
    "    writer = PdfWriter()\n",
    "\n",
    "    if reader.is_encrypted:\n",
    "        reader.decrypt(\"Password\")\n",
    "\n",
    "# Add all pages to the writer\n",
    "    for page in reader.pages:\n",
    "        writer.add_page(page)\n",
    "\n",
    "# Save the new PDF to a file\n",
    "    with open(file_list[i].stem+str('d'), \"wb\") as f:\n",
    "        writer.write(f)"
   ]
  },
  {
   "cell_type": "code",
   "execution_count": null,
   "id": "ba437736",
   "metadata": {},
   "outputs": [],
   "source": []
  }
 ],
 "metadata": {
  "kernelspec": {
   "display_name": "Python 3 (ipykernel)",
   "language": "python",
   "name": "python3"
  },
  "language_info": {
   "codemirror_mode": {
    "name": "ipython",
    "version": 3
   },
   "file_extension": ".py",
   "mimetype": "text/x-python",
   "name": "python",
   "nbconvert_exporter": "python",
   "pygments_lexer": "ipython3",
   "version": "3.10.9"
  }
 },
 "nbformat": 4,
 "nbformat_minor": 5
}
